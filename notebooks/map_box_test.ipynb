{
 "cells": [
  {
   "cell_type": "code",
   "execution_count": 1,
   "metadata": {},
   "outputs": [],
   "source": [
    "import pandas as pd\n",
    "import numpy as np\n",
    "import matplotlib.pyplot as plt\n",
    "import seaborn as sns\n",
    "%matplotlib inline \n"
   ]
  },
  {
   "cell_type": "code",
   "execution_count": 2,
   "metadata": {},
   "outputs": [],
   "source": [
    "import geopandas\n",
    "from geopandas import GeoDataFrame\n",
    "from shapely.geometry import Point\n",
    "import pyproj\n",
    "from pyproj import Proj, transform"
   ]
  },
  {
   "cell_type": "code",
   "execution_count": 3,
   "metadata": {},
   "outputs": [],
   "source": [
    "df = pd.read_csv('../data/LADOT_Metered_Parking_Inventory___Policies.csv')"
   ]
  },
  {
   "cell_type": "code",
   "execution_count": 4,
   "metadata": {},
   "outputs": [
    {
     "data": {
      "text/html": [
       "<div>\n",
       "<style scoped>\n",
       "    .dataframe tbody tr th:only-of-type {\n",
       "        vertical-align: middle;\n",
       "    }\n",
       "\n",
       "    .dataframe tbody tr th {\n",
       "        vertical-align: top;\n",
       "    }\n",
       "\n",
       "    .dataframe thead th {\n",
       "        text-align: right;\n",
       "    }\n",
       "</style>\n",
       "<table border=\"1\" class=\"dataframe\">\n",
       "  <thead>\n",
       "    <tr style=\"text-align: right;\">\n",
       "      <th></th>\n",
       "      <th>SpaceID</th>\n",
       "      <th>BlockFace</th>\n",
       "      <th>MeterType</th>\n",
       "      <th>RateType</th>\n",
       "      <th>RateRange</th>\n",
       "      <th>MeteredTimeLimit</th>\n",
       "      <th>ParkingPolicy</th>\n",
       "      <th>StreetCleaning</th>\n",
       "      <th>LatLng</th>\n",
       "    </tr>\n",
       "  </thead>\n",
       "  <tbody>\n",
       "    <tr>\n",
       "      <th>0</th>\n",
       "      <td>VS336</td>\n",
       "      <td>4900 SUNSET BL</td>\n",
       "      <td>Single-Space</td>\n",
       "      <td>FLAT</td>\n",
       "      <td>$1.00</td>\n",
       "      <td>2HR</td>\n",
       "      <td>TANS 4P-7P Mon-Fri | PKG 8A-4P Mon-Fri, 8A-8P Sat</td>\n",
       "      <td>NaN</td>\n",
       "      <td>(34.098024, -118.296664)</td>\n",
       "    </tr>\n",
       "  </tbody>\n",
       "</table>\n",
       "</div>"
      ],
      "text/plain": [
       "  SpaceID       BlockFace     MeterType RateType RateRange MeteredTimeLimit  \\\n",
       "0   VS336  4900 SUNSET BL  Single-Space     FLAT     $1.00              2HR   \n",
       "\n",
       "                                       ParkingPolicy StreetCleaning  \\\n",
       "0  TANS 4P-7P Mon-Fri | PKG 8A-4P Mon-Fri, 8A-8P Sat            NaN   \n",
       "\n",
       "                     LatLng  \n",
       "0  (34.098024, -118.296664)  "
      ]
     },
     "execution_count": 4,
     "metadata": {},
     "output_type": "execute_result"
    }
   ],
   "source": [
    "df.head(1)"
   ]
  },
  {
   "cell_type": "code",
   "execution_count": 5,
   "metadata": {},
   "outputs": [
    {
     "data": {
      "text/plain": [
       "(33989, 9)"
      ]
     },
     "execution_count": 5,
     "metadata": {},
     "output_type": "execute_result"
    }
   ],
   "source": [
    "df.shape"
   ]
  },
  {
   "cell_type": "code",
   "execution_count": 6,
   "metadata": {},
   "outputs": [],
   "source": [
    "df['Latitude'] = df['LatLng'].str.replace(\"(\", \"\").str.split().str[0]\n",
    "df['Longitude'] = df['LatLng'].str.replace(\")\",\"\").str.split().str[1]\n",
    "df[\"Latitude\"] = df['Latitude'].str[:-1].astype(float)\n",
    "df['Longitude'] = df['Longitude'].astype(float)"
   ]
  },
  {
   "cell_type": "code",
   "execution_count": 7,
   "metadata": {},
   "outputs": [
    {
     "data": {
      "application/vnd.jupyter.widget-view+json": {
       "model_id": "69c36476c0cd46059fff41b87e92b3cc",
       "version_major": 2,
       "version_minor": 0
      },
      "text/plain": [
       "Figure(layout=FigureLayout(height='420px'))"
      ]
     },
     "metadata": {},
     "output_type": "display_data"
    }
   ],
   "source": [
    "import gmaps\n",
    "\n",
    "\n",
    "gmaps.configure(api_key='') # Fill in with your API key\n",
    "\n",
    "\n",
    "\n",
    "locations = df[[\"Latitude\",\"Longitude\"]]\n",
    "fig = gmaps.figure()\n",
    "fig.add_layer(gmaps.heatmap_layer(locations))\n",
    "fig"
   ]
  },
  {
   "cell_type": "code",
   "execution_count": 49,
   "metadata": {},
   "outputs": [],
   "source": [
    "from plotly.offline import download_plotlyjs, init_notebook_mode, plot, iplot\n",
    "import plotly.graph_objs as go\n",
    "mapbox_access_token = 'pk.eyJ1IjoiZWxseWt5bGVzIiwiYSI6ImNrYWZvZ2dmdjAwaW0ycm81bGg3Yjh2c2wifQ.QN0HHPXMY1S1bDClQ1eYEA'\n",
    "import json\n",
    "import geopandas \n",
    "from geopandas import GeoDataFrame\n",
    "from shapely.geometry import Point, Polygon"
   ]
  },
  {
   "cell_type": "code",
   "execution_count": 35,
   "metadata": {},
   "outputs": [],
   "source": [
    "#\"Latitude\",\"Longitude\"\n",
    "geometry = [Point(xy) for xy in zip(df['Longitude'], df['Latitude'])]\n",
    "\n",
    "# Coordinate reference system : WGS84\n",
    "crs = {'init': 'epsg:4326'}\n",
    "\n",
    "# Creating a Geographic data frame \n",
    "gdf = geopandas.GeoDataFrame(df, crs=crs, geometry=geometry)"
   ]
  },
  {
   "cell_type": "code",
   "execution_count": 36,
   "metadata": {},
   "outputs": [
    {
     "data": {
      "text/html": [
       "<div>\n",
       "<style scoped>\n",
       "    .dataframe tbody tr th:only-of-type {\n",
       "        vertical-align: middle;\n",
       "    }\n",
       "\n",
       "    .dataframe tbody tr th {\n",
       "        vertical-align: top;\n",
       "    }\n",
       "\n",
       "    .dataframe thead th {\n",
       "        text-align: right;\n",
       "    }\n",
       "</style>\n",
       "<table border=\"1\" class=\"dataframe\">\n",
       "  <thead>\n",
       "    <tr style=\"text-align: right;\">\n",
       "      <th></th>\n",
       "      <th>SpaceID</th>\n",
       "      <th>BlockFace</th>\n",
       "      <th>MeterType</th>\n",
       "      <th>RateType</th>\n",
       "      <th>RateRange</th>\n",
       "      <th>MeteredTimeLimit</th>\n",
       "      <th>ParkingPolicy</th>\n",
       "      <th>StreetCleaning</th>\n",
       "      <th>LatLng</th>\n",
       "      <th>Latitude</th>\n",
       "      <th>Longitude</th>\n",
       "      <th>geometry</th>\n",
       "    </tr>\n",
       "  </thead>\n",
       "  <tbody>\n",
       "    <tr>\n",
       "      <th>0</th>\n",
       "      <td>VS336</td>\n",
       "      <td>4900 SUNSET BL</td>\n",
       "      <td>Single-Space</td>\n",
       "      <td>FLAT</td>\n",
       "      <td>$1.00</td>\n",
       "      <td>2HR</td>\n",
       "      <td>TANS 4P-7P Mon-Fri | PKG 8A-4P Mon-Fri, 8A-8P Sat</td>\n",
       "      <td>NaN</td>\n",
       "      <td>(34.098024, -118.296664)</td>\n",
       "      <td>34.098024</td>\n",
       "      <td>-118.296664</td>\n",
       "      <td>POINT (-118.29666 34.09802)</td>\n",
       "    </tr>\n",
       "  </tbody>\n",
       "</table>\n",
       "</div>"
      ],
      "text/plain": [
       "  SpaceID       BlockFace     MeterType RateType RateRange MeteredTimeLimit  \\\n",
       "0   VS336  4900 SUNSET BL  Single-Space     FLAT     $1.00              2HR   \n",
       "\n",
       "                                       ParkingPolicy StreetCleaning  \\\n",
       "0  TANS 4P-7P Mon-Fri | PKG 8A-4P Mon-Fri, 8A-8P Sat            NaN   \n",
       "\n",
       "                     LatLng   Latitude   Longitude  \\\n",
       "0  (34.098024, -118.296664)  34.098024 -118.296664   \n",
       "\n",
       "                      geometry  \n",
       "0  POINT (-118.29666 34.09802)  "
      ]
     },
     "execution_count": 36,
     "metadata": {},
     "output_type": "execute_result"
    }
   ],
   "source": [
    "gdf.head(1)"
   ]
  },
  {
   "cell_type": "code",
   "execution_count": 37,
   "metadata": {},
   "outputs": [],
   "source": [
    "gdf_group=gdf.groupby(['BlockFace', 'MeterType','RateType','RateRange','MeteredTimeLimit','ParkingPolicy']).agg({'LatLng': lambda x : ', '.join(x)})\n"
   ]
  },
  {
   "cell_type": "code",
   "execution_count": 38,
   "metadata": {},
   "outputs": [],
   "source": [
    "gdf_group=gdf_group.reset_index()"
   ]
  },
  {
   "cell_type": "code",
   "execution_count": 39,
   "metadata": {},
   "outputs": [
    {
     "data": {
      "text/html": [
       "<div>\n",
       "<style scoped>\n",
       "    .dataframe tbody tr th:only-of-type {\n",
       "        vertical-align: middle;\n",
       "    }\n",
       "\n",
       "    .dataframe tbody tr th {\n",
       "        vertical-align: top;\n",
       "    }\n",
       "\n",
       "    .dataframe thead th {\n",
       "        text-align: right;\n",
       "    }\n",
       "</style>\n",
       "<table border=\"1\" class=\"dataframe\">\n",
       "  <thead>\n",
       "    <tr style=\"text-align: right;\">\n",
       "      <th></th>\n",
       "      <th>BlockFace</th>\n",
       "      <th>MeterType</th>\n",
       "      <th>RateType</th>\n",
       "      <th>RateRange</th>\n",
       "      <th>MeteredTimeLimit</th>\n",
       "      <th>ParkingPolicy</th>\n",
       "      <th>LatLng</th>\n",
       "    </tr>\n",
       "  </thead>\n",
       "  <tbody>\n",
       "    <tr>\n",
       "      <th>0</th>\n",
       "      <td>1 NORTH VENICE BL (S)</td>\n",
       "      <td>Single-Space</td>\n",
       "      <td>FLAT</td>\n",
       "      <td>$2.00</td>\n",
       "      <td>1HR</td>\n",
       "      <td>8A-6P Daily</td>\n",
       "      <td>[(33.984622,  -118.470849),  (33.98493,  -118....</td>\n",
       "    </tr>\n",
       "    <tr>\n",
       "      <th>1</th>\n",
       "      <td>1 WASHINGTON BL (S)</td>\n",
       "      <td>Single-Space</td>\n",
       "      <td>FLAT</td>\n",
       "      <td>$2.00</td>\n",
       "      <td>1HR</td>\n",
       "      <td>8A-6P Daily</td>\n",
       "      <td>[(33.979206,  -118.466809)]</td>\n",
       "    </tr>\n",
       "    <tr>\n",
       "      <th>2</th>\n",
       "      <td>10 E MARKET ST</td>\n",
       "      <td>Multi-Space</td>\n",
       "      <td>SEASONAL</td>\n",
       "      <td>$1 - FW/$2 - SS</td>\n",
       "      <td>1HR</td>\n",
       "      <td>8A-6P Daily</td>\n",
       "      <td>[(33.988009,  -118.473198),  (33.988057,  -118...</td>\n",
       "    </tr>\n",
       "    <tr>\n",
       "      <th>3</th>\n",
       "      <td>10 E WINDWARD AVE</td>\n",
       "      <td>Multi-Space</td>\n",
       "      <td>SEASONAL</td>\n",
       "      <td>$1 - FW/$2 - SS</td>\n",
       "      <td>1HR</td>\n",
       "      <td>8A-6P Daily</td>\n",
       "      <td>[(33.987405,  -118.472604),  (33.987257,  -118...</td>\n",
       "    </tr>\n",
       "    <tr>\n",
       "      <th>4</th>\n",
       "      <td>10 W WASHINGTON BLVD</td>\n",
       "      <td>Multi-Space</td>\n",
       "      <td>SEASONAL</td>\n",
       "      <td>$1 - FW/$2 - SS</td>\n",
       "      <td>2HR</td>\n",
       "      <td>8A-6P Daily</td>\n",
       "      <td>[(33.979534,  -118.465848),  (33.979316,  -118...</td>\n",
       "    </tr>\n",
       "  </tbody>\n",
       "</table>\n",
       "</div>"
      ],
      "text/plain": [
       "               BlockFace     MeterType  RateType        RateRange  \\\n",
       "0  1 NORTH VENICE BL (S)  Single-Space      FLAT            $2.00   \n",
       "1    1 WASHINGTON BL (S)  Single-Space      FLAT            $2.00   \n",
       "2         10 E MARKET ST   Multi-Space  SEASONAL  $1 - FW/$2 - SS   \n",
       "3      10 E WINDWARD AVE   Multi-Space  SEASONAL  $1 - FW/$2 - SS   \n",
       "4   10 W WASHINGTON BLVD   Multi-Space  SEASONAL  $1 - FW/$2 - SS   \n",
       "\n",
       "  MeteredTimeLimit ParkingPolicy  \\\n",
       "0              1HR   8A-6P Daily   \n",
       "1              1HR   8A-6P Daily   \n",
       "2              1HR   8A-6P Daily   \n",
       "3              1HR   8A-6P Daily   \n",
       "4              2HR   8A-6P Daily   \n",
       "\n",
       "                                              LatLng  \n",
       "0  [(33.984622,  -118.470849),  (33.98493,  -118....  \n",
       "1                        [(33.979206,  -118.466809)]  \n",
       "2  [(33.988009,  -118.473198),  (33.988057,  -118...  \n",
       "3  [(33.987405,  -118.472604),  (33.987257,  -118...  \n",
       "4  [(33.979534,  -118.465848),  (33.979316,  -118...  "
      ]
     },
     "execution_count": 39,
     "metadata": {},
     "output_type": "execute_result"
    }
   ],
   "source": [
    "# Make the list of the coordinates\n",
    "gdf_group['LatLng'] = gdf_group['LatLng'].str.split(',')\n",
    "gdf_group.head(5)"
   ]
  },
  {
   "cell_type": "code",
   "execution_count": 40,
   "metadata": {},
   "outputs": [
    {
     "ename": "NameError",
     "evalue": "name 'pointList' is not defined",
     "output_type": "error",
     "traceback": [
      "\u001b[0;31m---------------------------------------------------------------------------\u001b[0m",
      "\u001b[0;31mNameError\u001b[0m                                 Traceback (most recent call last)",
      "\u001b[0;32m<ipython-input-40-ffdb453bb999>\u001b[0m in \u001b[0;36m<module>\u001b[0;34m\u001b[0m\n\u001b[1;32m      1\u001b[0m \u001b[0;32mfrom\u001b[0m \u001b[0mshapely\u001b[0m \u001b[0;32mimport\u001b[0m \u001b[0mgeometry\u001b[0m\u001b[0;34m\u001b[0m\u001b[0;34m\u001b[0m\u001b[0m\n\u001b[1;32m      2\u001b[0m \u001b[0;34m\u001b[0m\u001b[0m\n\u001b[0;32m----> 3\u001b[0;31m \u001b[0mpoly\u001b[0m \u001b[0;34m=\u001b[0m \u001b[0mgeometry\u001b[0m\u001b[0;34m.\u001b[0m\u001b[0mPolygon\u001b[0m\u001b[0;34m(\u001b[0m\u001b[0;34m[\u001b[0m\u001b[0;34m[\u001b[0m\u001b[0mp\u001b[0m\u001b[0;34m.\u001b[0m\u001b[0mx\u001b[0m\u001b[0;34m,\u001b[0m \u001b[0mp\u001b[0m\u001b[0;34m.\u001b[0m\u001b[0my\u001b[0m\u001b[0;34m]\u001b[0m \u001b[0;32mfor\u001b[0m \u001b[0mp\u001b[0m \u001b[0;32min\u001b[0m \u001b[0mpointList\u001b[0m\u001b[0;34m]\u001b[0m\u001b[0;34m)\u001b[0m\u001b[0;34m\u001b[0m\u001b[0;34m\u001b[0m\u001b[0m\n\u001b[0m",
      "\u001b[0;31mNameError\u001b[0m: name 'pointList' is not defined"
     ]
    }
   ],
   "source": [
    "from shapely import geometry\n",
    "\n",
    "poly = geometry.Polygon([[p.x, p.y] for p in pointList])"
   ]
  },
  {
   "cell_type": "code",
   "execution_count": 41,
   "metadata": {},
   "outputs": [
    {
     "data": {
      "text/plain": [
       "5900 6TH ST                  46\n",
       "3101 GLENDALE BL             44\n",
       "10900 W SANTA MONICA BLVD    41\n",
       "601 LA FAYETTE PK PL         40\n",
       "600 SAN VICENTE BL           40\n",
       "                             ..\n",
       "2701 ROWENA AV                1\n",
       "6700 HOLLYWOOD BL             1\n",
       "4601 OAKWOOD AV               1\n",
       "700 ORLANDO AV                1\n",
       "5700 2ND ST                   1\n",
       "Name: BlockFace, Length: 4675, dtype: int64"
      ]
     },
     "execution_count": 41,
     "metadata": {},
     "output_type": "execute_result"
    }
   ],
   "source": [
    "blockface = gdf['BlockFace'].value_counts()\n",
    "blockface"
   ]
  },
  {
   "cell_type": "code",
   "execution_count": 42,
   "metadata": {},
   "outputs": [],
   "source": [
    "block_index_ploy = {}\n",
    "for block_index in blockface.index:\n",
    "    geo_list = []\n",
    "    for geo in gdf[gdf['BlockFace'] == block_index]['geometry']:\n",
    "        geo_list.append(geo)\n",
    "    block_index_ploy[block_index] = geo_list\n",
    "    "
   ]
  },
  {
   "cell_type": "code",
   "execution_count": 43,
   "metadata": {},
   "outputs": [],
   "source": [
    "block_pd = pd.DataFrame(block_index_ploy.items(), index = block_index_ploy.keys())"
   ]
  },
  {
   "cell_type": "code",
   "execution_count": 44,
   "metadata": {},
   "outputs": [
    {
     "data": {
      "text/html": [
       "<div>\n",
       "<style scoped>\n",
       "    .dataframe tbody tr th:only-of-type {\n",
       "        vertical-align: middle;\n",
       "    }\n",
       "\n",
       "    .dataframe tbody tr th {\n",
       "        vertical-align: top;\n",
       "    }\n",
       "\n",
       "    .dataframe thead th {\n",
       "        text-align: right;\n",
       "    }\n",
       "</style>\n",
       "<table border=\"1\" class=\"dataframe\">\n",
       "  <thead>\n",
       "    <tr style=\"text-align: right;\">\n",
       "      <th></th>\n",
       "      <th>0</th>\n",
       "      <th>1</th>\n",
       "    </tr>\n",
       "  </thead>\n",
       "  <tbody>\n",
       "    <tr>\n",
       "      <th>5900 6TH ST</th>\n",
       "      <td>5900 6TH ST</td>\n",
       "      <td>[POINT (-118.356895 34.064787), POINT (-118.35...</td>\n",
       "    </tr>\n",
       "    <tr>\n",
       "      <th>3101 GLENDALE BL</th>\n",
       "      <td>3101 GLENDALE BL</td>\n",
       "      <td>[POINT (-118.262405 34.116822), POINT (-118.26...</td>\n",
       "    </tr>\n",
       "    <tr>\n",
       "      <th>10900 W SANTA MONICA BLVD</th>\n",
       "      <td>10900 W SANTA MONICA BLVD</td>\n",
       "      <td>[POINT (-118.43847 34.049129), POINT (-118.439...</td>\n",
       "    </tr>\n",
       "    <tr>\n",
       "      <th>601 LA FAYETTE PK PL</th>\n",
       "      <td>601 LA FAYETTE PK PL</td>\n",
       "      <td>[POINT (-118.282991 34.061985), POINT (-118.28...</td>\n",
       "    </tr>\n",
       "    <tr>\n",
       "      <th>600 SAN VICENTE BL</th>\n",
       "      <td>600 SAN VICENTE BL</td>\n",
       "      <td>[POINT (-118.371769 34.064534), POINT (-118.37...</td>\n",
       "    </tr>\n",
       "  </tbody>\n",
       "</table>\n",
       "</div>"
      ],
      "text/plain": [
       "                                                   0  \\\n",
       "5900 6TH ST                              5900 6TH ST   \n",
       "3101 GLENDALE BL                    3101 GLENDALE BL   \n",
       "10900 W SANTA MONICA BLVD  10900 W SANTA MONICA BLVD   \n",
       "601 LA FAYETTE PK PL            601 LA FAYETTE PK PL   \n",
       "600 SAN VICENTE BL                600 SAN VICENTE BL   \n",
       "\n",
       "                                                                           1  \n",
       "5900 6TH ST                [POINT (-118.356895 34.064787), POINT (-118.35...  \n",
       "3101 GLENDALE BL           [POINT (-118.262405 34.116822), POINT (-118.26...  \n",
       "10900 W SANTA MONICA BLVD  [POINT (-118.43847 34.049129), POINT (-118.439...  \n",
       "601 LA FAYETTE PK PL       [POINT (-118.282991 34.061985), POINT (-118.28...  \n",
       "600 SAN VICENTE BL         [POINT (-118.371769 34.064534), POINT (-118.37...  "
      ]
     },
     "execution_count": 44,
     "metadata": {},
     "output_type": "execute_result"
    }
   ],
   "source": [
    "block_pd.head()"
   ]
  },
  {
   "cell_type": "code",
   "execution_count": 45,
   "metadata": {},
   "outputs": [],
   "source": [
    "from_json = gdf.to_json()\n",
    "geoJSON = json.loads(from_json)"
   ]
  },
  {
   "cell_type": "code",
   "execution_count": 46,
   "metadata": {},
   "outputs": [
    {
     "data": {
      "text/plain": [
       "[{'id': '0',\n",
       "  'type': 'Feature',\n",
       "  'properties': {'BlockFace': '4900 SUNSET BL',\n",
       "   'LatLng': '(34.098024, -118.296664)',\n",
       "   'Latitude': 34.098024,\n",
       "   'Longitude': -118.296664,\n",
       "   'MeterType': 'Single-Space',\n",
       "   'MeteredTimeLimit': '2HR',\n",
       "   'ParkingPolicy': 'TANS 4P-7P Mon-Fri | PKG 8A-4P Mon-Fri, 8A-8P Sat',\n",
       "   'RateRange': '$1.00',\n",
       "   'RateType': 'FLAT',\n",
       "   'SpaceID': 'VS336',\n",
       "   'StreetCleaning': None},\n",
       "  'geometry': {'type': 'Point', 'coordinates': [-118.296664, 34.098024]}},\n",
       " {'id': '1',\n",
       "  'type': 'Feature',\n",
       "  'properties': {'BlockFace': '700 E PICO BLVD',\n",
       "   'LatLng': '(34.032054, -118.252521)',\n",
       "   'Latitude': 34.032054,\n",
       "   'Longitude': -118.252521,\n",
       "   'MeterType': 'Single-Space',\n",
       "   'MeteredTimeLimit': '2HR',\n",
       "   'ParkingPolicy': '8A-6P Mon-Sat',\n",
       "   'RateRange': '$0.5 - $1',\n",
       "   'RateType': 'TOD',\n",
       "   'SpaceID': 'ED396',\n",
       "   'StreetCleaning': None},\n",
       "  'geometry': {'type': 'Point', 'coordinates': [-118.252521, 34.032054]}}]"
      ]
     },
     "execution_count": 46,
     "metadata": {},
     "output_type": "execute_result"
    }
   ],
   "source": [
    "geoJSON['features'][:2]"
   ]
  },
  {
   "cell_type": "code",
   "execution_count": 26,
   "metadata": {},
   "outputs": [],
   "source": [
    "with open('geojson','w') as f:\n",
    "    json.dump(geoJSON,f)"
   ]
  },
  {
   "cell_type": "code",
   "execution_count": 27,
   "metadata": {},
   "outputs": [],
   "source": [
    "pts=[]#list of points defining boundaries of polygons\n",
    "for  feature in geoJSON['features']:\n",
    "    if feature['geometry']['type']=='Point':\n",
    "        pts.extend(feature['geometry']['coordinates'])    \n",
    "        #pts.append([None, None])#mark the end of a polygon   \n",
    "\n",
    "    elif feature['geometry']['type']=='MultiPolygon':\n",
    "        for polyg in feature['geometry']['coordinates']:\n",
    "            pts.extend(polyg[0])\n",
    "            pts.append([None, None])#end of polygon\n",
    "    else: raise ValueError(\"geometry type irrelevant for map\") "
   ]
  },
  {
   "cell_type": "code",
   "execution_count": 28,
   "metadata": {},
   "outputs": [],
   "source": [
    "X = []\n",
    "Y = []\n",
    "for i in range(len(pts)):        \n",
    "    if i % 2 == 0:\n",
    "        X.append(pts[i])\n",
    "    else:\n",
    "        Y.append(pts[i])\n",
    "        "
   ]
  },
  {
   "cell_type": "code",
   "execution_count": 29,
   "metadata": {},
   "outputs": [
    {
     "data": {
      "text/plain": [
       "[-118.296664,\n",
       " -118.252521,\n",
       " -118.264675,\n",
       " -118.274463,\n",
       " -118.44891,\n",
       " -118.344672,\n",
       " -118.27393,\n",
       " -118.266015,\n",
       " -118.369344,\n",
       " -118.445724]"
      ]
     },
     "execution_count": 29,
     "metadata": {},
     "output_type": "execute_result"
    }
   ],
   "source": [
    "X[:10]"
   ]
  },
  {
   "cell_type": "code",
   "execution_count": 51,
   "metadata": {},
   "outputs": [
    {
     "data": {
      "text/plain": [
       "'LA Mapbox.html'"
      ]
     },
     "execution_count": 51,
     "metadata": {},
     "output_type": "execute_result"
    }
   ],
   "source": [
    "data = [\n",
    "go.Scattermapbox(\n",
    "    lat=Y,\n",
    "    lon=X,\n",
    "    mode='markers',\n",
    "    marker=dict(size= 3,color = 'red',opacity = .8))\n",
    "    ]\n",
    "\n",
    "layout = go.Layout(autosize=True,\n",
    "                   mapbox = dict(center= dict(lat=33,     #Set center at Flataklocken\n",
    "                                 lon=-118),        \n",
    "                                 accesstoken=mapbox_access_token,\n",
    "                                 zoom=4,\n",
    "                                 style='light',\n",
    "                               ),\n",
    "                   \n",
    "                    width=1000,\n",
    "                    height=1000,\n",
    "                    title = 'LA')\n",
    "\n",
    "\n",
    "fig = go.Figure(data=data, layout=layout)\n",
    "plot(fig, filename='LA Mapbox.html')"
   ]
  },
  {
   "cell_type": "code",
   "execution_count": 53,
   "metadata": {},
   "outputs": [
    {
     "data": {
      "text/html": [
       "\n",
       "        <iframe\n",
       "            width=\"700\"\n",
       "            height=\"700\"\n",
       "            src=\"LA Mapbox.html\"\n",
       "            frameborder=\"0\"\n",
       "            allowfullscreen\n",
       "        ></iframe>\n",
       "        "
      ],
      "text/plain": [
       "<IPython.lib.display.IFrame at 0x1a2ffa11d0>"
      ]
     },
     "execution_count": 53,
     "metadata": {},
     "output_type": "execute_result"
    }
   ],
   "source": [
    "from IPython.display import IFrame\n",
    "IFrame(src='LA Mapbox.html', width=700, height = 700)"
   ]
  },
  {
   "cell_type": "code",
   "execution_count": null,
   "metadata": {},
   "outputs": [],
   "source": []
  }
 ],
 "metadata": {
  "kernelspec": {
   "display_name": "Python 3",
   "language": "python",
   "name": "python3"
  },
  "language_info": {
   "codemirror_mode": {
    "name": "ipython",
    "version": 3
   },
   "file_extension": ".py",
   "mimetype": "text/x-python",
   "name": "python",
   "nbconvert_exporter": "python",
   "pygments_lexer": "ipython3",
   "version": "3.7.6"
  }
 },
 "nbformat": 4,
 "nbformat_minor": 4
}
